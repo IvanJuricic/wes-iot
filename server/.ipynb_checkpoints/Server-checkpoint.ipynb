{
 "cells": [
  {
   "cell_type": "code",
   "execution_count": null,
   "metadata": {},
   "outputs": [],
   "source": [
    "import socket\n",
    "from datetime import datetime"
   ]
  },
  {
   "cell_type": "code",
   "execution_count": null,
   "metadata": {},
   "outputs": [],
   "source": [
    "# Server IP Address\n",
    "server_address = (\"192.168.43.223\",3000)\n",
    "# Shock Active Boolean\n",
    "buzz_active = 0\n",
    "\n",
    "# Msg from device\n",
    "msgFromESP = \"Shocking!\"\n",
    "# Msg from client\n",
    "msgFromClient = \"Shocked!\"\n",
    "# Msg from server\n",
    "msgFromServer = \"Passing command!\"\n",
    "\n",
    "# Buffer for incoming messages\n",
    "bufferSize = 64\n"
   ]
  },
  {
   "cell_type": "code",
   "execution_count": null,
   "metadata": {},
   "outputs": [],
   "source": [
    "# Create UDP socket\n",
    "\n",
    "serverSocket = socket.socket(socket.AF_INET,socket.SOCK_DGRAM)\n",
    "serverSocket.bind(server_address)\n",
    "print(\"UDP Server is up and listening\")"
   ]
  },
  {
   "cell_type": "code",
   "execution_count": null,
   "metadata": {},
   "outputs": [],
   "source": [
    "while True:\n",
    "    \n",
    "    dateTimeObj = datetime.now()\n",
    "    \n",
    "    # Recieved message and client (IP, port)\n",
    "    \n",
    "    message, address = serverSocket.recvfrom(bufferSize)\n",
    "    \n",
    "    print(message)\n",
    "    "
   ]
  }
 ],
 "metadata": {
  "kernelspec": {
   "display_name": "Python 3",
   "language": "python",
   "name": "python3"
  },
  "language_info": {
   "codemirror_mode": {
    "name": "ipython",
    "version": 3
   },
   "file_extension": ".py",
   "mimetype": "text/x-python",
   "name": "python",
   "nbconvert_exporter": "python",
   "pygments_lexer": "ipython3",
   "version": "3.7.4"
  }
 },
 "nbformat": 4,
 "nbformat_minor": 4
}
