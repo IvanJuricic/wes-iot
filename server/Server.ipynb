{
 "cells": [
  {
   "cell_type": "code",
   "execution_count": 1,
   "metadata": {},
   "outputs": [],
   "source": [
    "import socket\n",
    "import time\n",
    "from datetime import datetime"
   ]
  },
  {
   "cell_type": "code",
   "execution_count": 2,
   "metadata": {},
   "outputs": [],
   "source": [
    "HOST_IP = \"192.168.43.223\"\n",
    "HOST_PORT = 3000\n",
    "\n",
    "ESP_IP = \"192.168.43.207\"\n",
    "ESP_PORT = 3000\n",
    "\n",
    "CLIENT_IP = \"\"\n",
    "CLIENT_PORT = 0\n",
    "\n",
    "# Shock Active Boolean\n",
    "buzz_active = 0\n",
    "\n",
    "# Msg from device\n",
    "msgToESP = \"SHOCK!\"\n",
    "msgToESPToBytes = str.encode(msgToESP)\n",
    "# Msg from client\n",
    "msgFromClient = b\"SHOCK!\"\n",
    "# Msg from server\n",
    "msgFromServer = \"Shock completed!\"\n",
    "msgFromServerToBytes = str.encode(msgFromServer)\n",
    "\n",
    "msgFromESP = \"UNSHOCKED\"\n",
    "msgFromESPToBytes = str.encode(msgFromESP)\n",
    "\n",
    "# Buffer for incoming messages\n",
    "bufferSize = 64\n"
   ]
  },
  {
   "cell_type": "code",
   "execution_count": 3,
   "metadata": {},
   "outputs": [
    {
     "name": "stdout",
     "output_type": "stream",
     "text": [
      "UDP Server is up and listening\n"
     ]
    }
   ],
   "source": [
    "# Create UDP socket\n",
    "\n",
    "serverSocket = socket.socket(socket.AF_INET,socket.SOCK_DGRAM)\n",
    "serverSocket.bind((HOST_IP,HOST_PORT))\n",
    "\n",
    "print(\"UDP Server is up and listening\")    \n"
   ]
  },
  {
   "cell_type": "code",
   "execution_count": null,
   "metadata": {},
   "outputs": [
    {
     "name": "stdout",
     "output_type": "stream",
     "text": [
      "b'Master here!'\n",
      "b'SHOCK!'\n",
      "b'UNSHOCKED'\n",
      "b'SHOCK!'\n",
      "b'Master here!'\n",
      "b'SHOCK!'\n",
      "b'UNSHOCKED'\n",
      "b'SHOCK!'\n",
      "b'UNSHOCKED'\n",
      "b'SHOCK!'\n",
      "b'UNSHOCKED'\n",
      "b'SHOCK!'\n",
      "b'UNSHOCKED'\n",
      "b'UNSHOCKED'\n",
      "b'UNSHOCKED'\n",
      "b'Master here!'\n",
      "b'SHOCK!'\n",
      "b'Master here!'\n",
      "b'SHOCK!'\n",
      "b'UNSHOCKED'\n",
      "b'SHOCK!'\n",
      "b'UNSHOCKED'\n",
      "b'SHOCK!'\n",
      "b'UNSHOCKED'\n",
      "b'SHOCK!'\n",
      "b'UNSHOCKED'\n",
      "b'SHOCK!'\n",
      "b'UNSHOCKED'\n",
      "b'UNSHOCKED'\n",
      "b'SHOCK!'\n",
      "b'UNSHOCKED'\n",
      "b'UNSHOCKED'\n",
      "b'UNSHOCKED'\n",
      "b'UNSHOCKED'\n",
      "b'UNSHOCKED'\n",
      "b'UNSHOCKED'\n",
      "b'UNSHOCKED'\n",
      "b'UNSHOCKED'\n",
      "b'UNSHOCKED'\n"
     ]
    }
   ],
   "source": [
    "while True:\n",
    "    \n",
    "    dateTimeObj = datetime.now()\n",
    "    \n",
    "    # Recieved message and client (IP, port)\n",
    "    \n",
    "    message, address = serverSocket.recvfrom(bufferSize)\n",
    "    print(message)\n",
    "    \n",
    "    if(message == b'Master here!'):\n",
    "        (CLIENT_IP,CLIENT_PORT) = address\n",
    "    \n",
    "    if(message == b'SHOCK!'):\n",
    "        serverSocket.sendto(msgFromServerToBytes, (CLIENT_IP,CLIENT_PORT))\n",
    "        serverSocket.sendto(msgToESPToBytes,(ESP_IP,ESP_PORT))\n",
    "        \n",
    "    elif(message == b'UNSHOCKED'):\n",
    "        serverSocket.sendto(msgFromESPToBytes, (CLIENT_IP, CLIENT_PORT))\n",
    "        \n",
    "    \n",
    "    \n",
    "    "
   ]
  },
  {
   "cell_type": "code",
   "execution_count": null,
   "metadata": {},
   "outputs": [],
   "source": []
  },
  {
   "cell_type": "code",
   "execution_count": null,
   "metadata": {},
   "outputs": [],
   "source": []
  }
 ],
 "metadata": {
  "kernelspec": {
   "display_name": "Python 3",
   "language": "python",
   "name": "python3"
  },
  "language_info": {
   "codemirror_mode": {
    "name": "ipython",
    "version": 3
   },
   "file_extension": ".py",
   "mimetype": "text/x-python",
   "name": "python",
   "nbconvert_exporter": "python",
   "pygments_lexer": "ipython3",
   "version": "3.7.4"
  }
 },
 "nbformat": 4,
 "nbformat_minor": 4
}
